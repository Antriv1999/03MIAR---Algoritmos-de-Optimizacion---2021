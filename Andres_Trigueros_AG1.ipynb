{
  "cells": [
    {
      "cell_type": "markdown",
      "metadata": {
        "id": "view-in-github",
        "colab_type": "text"
      },
      "source": [
        "<a href=\"https://colab.research.google.com/github/Antriv1999/03MIAR---Algoritmos-de-Optimizacion---2021/blob/master/Andres_Trigueros_AG1.ipynb\" target=\"_parent\"><img src=\"https://colab.research.google.com/assets/colab-badge.svg\" alt=\"Open In Colab\"/></a>"
      ]
    },
    {
      "cell_type": "markdown",
      "metadata": {
        "id": "GG2D6vLdYwwy"
      },
      "source": [
        "Actividad Guiada 1 de Algoritmos de Optimizacion\n",
        "\n",
        "Nombre: Andres Trigueros Vega\n",
        "\n",
        "https://colab.research.google.com/drive/1FJJKkSqZj4wvR5Zy7ybb-ji_4xO1gQy-?usp=sharing\n",
        "\n",
        "https://github.com/Antriv1999/03MIAR---Algoritmos-de-Optimizacion---2021"
      ]
    },
    {
      "cell_type": "code",
      "execution_count": null,
      "metadata": {
        "id": "rTiqLuX2ZKuL"
      },
      "outputs": [],
      "source": [
        "# Torres de Hanoi - Divide y venceras\n",
        "\n",
        "def Torres_Hanoi(N, desde, hasta):\n",
        "    # N     - Nº de fichas\n",
        "    # desde - Torre inicial\n",
        "    # hasta - Torre final\n",
        "    if N==1 :\n",
        "        print(\"Lleva la ficha desde \" + str(desde) + \" hasta \" + str(hasta))\n",
        "    else:\n",
        "        Torres_Hanoi(N-1, desde, 6-desde-hasta)\n",
        "        print(\"Lleva la ficha desde \" + str(desde) + \" hasta \" + str(hasta))\n",
        "        Torres_Hanoi(N-1, 6-desde-hasta,  hasta)\n",
        "# Torres_Hanoi(6, 1, 3)"
      ]
    },
    {
      "cell_type": "code",
      "execution_count": null,
      "metadata": {
        "id": "YwBudj2hYoMR"
      },
      "outputs": [],
      "source": [
        "# Cambio de monedas - Técnica voraz\n",
        "SISTEMA = [12, 5 ,2, 1  ]\n",
        "def cambio_monedas(CANTIDAD,SISTEMA):\n",
        "    SOLUCION = [0]*len(SISTEMA)\n",
        "    ValorAcumulado = 0\n",
        "    for i,valor in enumerate(SISTEMA):\n",
        "        monedas = (CANTIDAD-ValorAcumulado)//valor\n",
        "        SOLUCION[i] = monedas\n",
        "        ValorAcumulado = ValorAcumulado + monedas*valor\n",
        "\n",
        "        if CANTIDAD == ValorAcumulado:\n",
        "            return SOLUCION\n",
        "\n",
        "    print(\"No es posible encontrar solucion\") \n",
        "# cambio_monedas(15,SISTEMA)"
      ]
    },
    {
      "cell_type": "code",
      "execution_count": null,
      "metadata": {
        "id": "H4Iwt2XRZTFr"
      },
      "outputs": [],
      "source": [
        "#N Reinas - Vuelta Atrás()\n",
        "def es_prometedora(SOLUCION,etapa):\n",
        "    for i in range(etapa+1):\n",
        "        if SOLUCION.count(SOLUCION[i]) > 1: \n",
        "            for j in range(i+1, etapa +1 ):\n",
        "                if abs(i-j) == abs(SOLUCION[i]-SOLUCION[j]) : return False\n",
        "    return True\n",
        "\n",
        "def escribe_solucion(S):\n",
        "    n = len(S)\n",
        "    for x in range(n):\n",
        "        print(\"\")\n",
        "        for i in range(n):\n",
        "            if S[i] == x+1:\n",
        "                print(\" X \" , end=\"\")\n",
        "            else:\n",
        "                print(\" - \", end=\"\")\n",
        "\n",
        "def reinas(N, solucion=[],etapa=0):\n",
        "    if len(solucion) == 0:\n",
        "        solucion = [0 for i in range(N) ]\n",
        "  \n",
        "    for i in range(1, N+1):\n",
        "        solucion[etapa] = i\n",
        "        if es_prometedora(solucion, etapa):\n",
        "            if etapa == N-1:\n",
        "                None\n",
        "                # print(solucion)\n",
        "            else:  \n",
        "                reinas(N, solucion, etapa+1)\n",
        "        else:\n",
        "            None\n",
        "  \n",
        "    solucion[etapa] = 0\n",
        "\n",
        "reinas(4,solucion=[], etapa=0)\n",
        "\n",
        "# escribe_solucion([3, 1, 4, 2])"
      ]
    },
    {
      "cell_type": "code",
      "execution_count": null,
      "metadata": {
        "id": "TocxR55dQWq5"
      },
      "outputs": [],
      "source": [
        "# Viaje por el rio - Programación dinámica\n",
        "\n",
        "TARIFAS = [\n",
        "[0,5,4,3,999,999,999],\n",
        "[999,0,999,2,3,999,11],\n",
        "[999,999, 0,1,999,4,10],\n",
        "[999,999,999, 0,5,6,9],\n",
        "[999,999, 999,999,0,999,4],\n",
        "[999,999, 999,999,999,0,3],\n",
        "[999,999,999,999,999,999,0]\n",
        "]\n",
        "\n",
        "def Precios(TARIFAS):\n",
        "    PRECIOS, RUTA = Precios(TARIFAS)  \n",
        "    print(PRECIOS[0][6])\n",
        "\n",
        "    print(\"PRECIOS\")\n",
        "    for i in range(len(TARIFAS)):\n",
        "        print(PRECIOS[i])\n",
        "\n",
        "    print(\"\\nRUTA\")  \n",
        "    for i in range(len(TARIFAS)):\n",
        "        print(RUTA[i])  \n",
        "  \n",
        "def calcular_ruta(RUTA, desde, hasta):\n",
        "    if desde == hasta:\n",
        "        #print(\"Ir a :\" + str(desde))\n",
        "        return \"\" \n",
        "    else:\n",
        "        return str(calcular_ruta(RUTA, desde, RUTA[desde][hasta])) + ',' + str(RUTA[desde][hasta]) \n",
        "\n",
        "# print(\"\\nLa ruta es:\")  \n",
        "# calcular_ruta(RUTA, 0,6) "
      ]
    },
    {
      "cell_type": "code",
      "execution_count": null,
      "metadata": {
        "id": "UQyHwkfOzzzJ"
      },
      "outputs": [],
      "source": [
        "import random\n",
        "import math\n",
        "\n",
        "def euclidea(p1, p2):\n",
        "    if not type(p1) is tuple:\n",
        "        p1 = tuple([p1])\n",
        "    if not type(p2) is tuple:\n",
        "        p2 = tuple([p2])\n",
        "    distancia = 0\n",
        "    for i in range(len(p1)):\n",
        "        distancia += (p1[i]-p2[i]) **2\n",
        "    return distancia ** 0.5\n",
        "\n",
        "def fuerza_bruta(p):\n",
        "    mejor_solucion = []\n",
        "    mejor_distancia = math.inf\n",
        "    for i in range(len(p)):\n",
        "        for j in range(len(p)):\n",
        "            if i < j:\n",
        "                p1 = p[i]\n",
        "                p2 = p[j]\n",
        "                distancia = euclidea(p1, p2)\n",
        "                if distancia < mejor_distancia:\n",
        "                    mejor_solucion = [p1, p2]\n",
        "                    mejor_distancia = distancia\n",
        "    return mejor_solucion\n",
        "\n",
        "def divide_y_venceras(p, primera_llamada):\n",
        "    if primera_llamada:\n",
        "        p.sort(key = lambda x: x[0])\n",
        "    if len(p) <= 1:\n",
        "        return None\n",
        "    elif len(p) <= 3:\n",
        "        return fuerza_bruta(p)\n",
        "    else:\n",
        "        mitad = len(p) // 2\n",
        "        distancia_izq = divide_y_venceras(p[:mitad], False)\n",
        "        distancia_der = divide_y_venceras(p[mitad:], False)\n",
        "        p = distancia_izq[:]\n",
        "        for p2 in distancia_der:\n",
        "            p.append(p2)\n",
        "        return fuerza_bruta(p)"
      ]
    },
    {
      "cell_type": "code",
      "execution_count": null,
      "metadata": {
        "id": "WKCSvbiYzzzK",
        "outputId": "6c47a31f-3957-4ea4-f005-3afbbedc1d7e"
      },
      "outputs": [
        {
          "name": "stdout",
          "output_type": "stream",
          "text": [
            "####### 1 DIMENSION #######\n",
            "Fuerza bruta:      [6913, 6913]\n",
            "Divide y venceras: [7745, 7750]\n"
          ]
        }
      ],
      "source": [
        "random.seed(42)\n",
        "puntos = [random.randrange(1, 10000) for x in range(1000)]\n",
        "\n",
        "print(\"####### 1 DIMENSION #######\")\n",
        "print(\"Fuerza bruta:     \", fuerza_bruta(puntos))\n",
        "print(\"Divide y venceras:\", divide_y_venceras(puntos, False))"
      ]
    },
    {
      "cell_type": "code",
      "execution_count": null,
      "metadata": {
        "id": "jJwUuTYgzzzK",
        "outputId": "0baa7b5d-0289-4133-e6bf-37a098cd6b08"
      },
      "outputs": [
        {
          "name": "stdout",
          "output_type": "stream",
          "text": [
            "####### 2 DIMENSIONES #######\n",
            "Fuerza bruta:      [(3395, 9608), (3395, 9618)]\n",
            "Divide y venceras: [(3395, 9608), (3395, 9618)]\n"
          ]
        }
      ],
      "source": [
        "puntos = [(random.randrange(1, 10000), random.randrange(1, 10000)) for x in range(1000)]\n",
        "\n",
        "print(\"####### 2 DIMENSIONES #######\")\n",
        "print(\"Fuerza bruta:     \", fuerza_bruta(puntos))\n",
        "print(\"Divide y venceras:\", divide_y_venceras(puntos, True))"
      ]
    },
    {
      "cell_type": "code",
      "execution_count": null,
      "metadata": {
        "id": "9kIjJ6xIzzzL",
        "outputId": "340d1692-f316-4aa2-c108-0d5e1ee37598"
      },
      "outputs": [
        {
          "name": "stdout",
          "output_type": "stream",
          "text": [
            "####### 3 DIMENSIONES #######\n",
            "Fuerza bruta:      [(2628, 646, 8981), (2599, 692, 9005)]\n",
            "Divide y venceras: [(789, 6324, 7180), (828, 6437, 7301)]\n"
          ]
        }
      ],
      "source": [
        "puntos = [(random.randrange(1, 10000), random.randrange(1, 10000), random.randrange(1, 10000)) for x in range(1000)]\n",
        "\n",
        "print(\"####### 3 DIMENSIONES #######\")\n",
        "print(\"Fuerza bruta:     \", fuerza_bruta(puntos))\n",
        "print(\"Divide y venceras:\", divide_y_venceras(puntos, True))"
      ]
    },
    {
      "cell_type": "markdown",
      "metadata": {
        "id": "1QDD-pDTzzzL"
      },
      "source": [
        "La complejidad del algoritmo utilizando fuerza bruta es $O(n^2)$, y la de divide y vencerás es $O(n * log(n))$"
      ]
    },
    {
      "cell_type": "code",
      "execution_count": null,
      "metadata": {
        "id": "xoxy3rX5zzzL"
      },
      "outputs": [],
      "source": [
        ""
      ]
    }
  ],
  "metadata": {
    "colab": {
      "collapsed_sections": [],
      "name": "Andres_Trigueros_AG1.ipynb",
      "provenance": [],
      "include_colab_link": true
    },
    "kernelspec": {
      "display_name": "Python 3",
      "language": "python",
      "name": "python3"
    },
    "language_info": {
      "codemirror_mode": {
        "name": "ipython",
        "version": 3
      },
      "file_extension": ".py",
      "mimetype": "text/x-python",
      "name": "python",
      "nbconvert_exporter": "python",
      "pygments_lexer": "ipython3",
      "version": "3.8.8"
    }
  },
  "nbformat": 4,
  "nbformat_minor": 0
}
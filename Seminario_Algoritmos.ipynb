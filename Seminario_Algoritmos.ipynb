{
  "nbformat": 4,
  "nbformat_minor": 0,
  "metadata": {
    "colab": {
      "name": "Seminario - Algoritmos.ipynb",
      "provenance": [],
      "collapsed_sections": [],
      "include_colab_link": true
    },
    "kernelspec": {
      "name": "python3",
      "display_name": "Python 3"
    }
  },
  "cells": [
    {
      "cell_type": "markdown",
      "metadata": {
        "id": "view-in-github",
        "colab_type": "text"
      },
      "source": [
        "<a href=\"https://colab.research.google.com/github/Antriv1999/03MIAR---Algoritmos-de-Optimizacion---2021/blob/master/Seminario_Algoritmos.ipynb\" target=\"_parent\"><img src=\"https://colab.research.google.com/assets/colab-badge.svg\" alt=\"Open In Colab\"/></a>"
      ]
    },
    {
      "cell_type": "markdown",
      "metadata": {
        "id": "hVbXYX-RfPWh"
      },
      "source": [
        "# Algoritmos de optimización - Seminario<br>\n",
        "Nombre y Apellidos: Andrés Trigueros Vega  <br>\n",
        "Url: https://github.com/Antriv1999/03MIAR---Algoritmos-de-Optimizacion---2021<br>\n",
        "Problema:\n",
        "> 1. Sesiones de doblaje <br>\n",
        ">2. Organizar los horarios de partidos de La Liga<br>\n",
        ">3. Combinar cifras y operaciones\n",
        "\n",
        "Descripción del problema:\n",
        "<br><br>\n",
        "Problema 3. Combinar cifras y operaciones<br>\n",
        "- El problema consiste en analizar el siguiente problema y diseñar un algoritmo que lo resuelva.<br>\n",
        "- Disponemos de las 9 cifras del 1 al 9 (excluimos el cero) y de los 4 signos básicos de las<br>\n",
        "operaciones fundamentales: suma(+), resta(-), multiplicación(\\*) y división(/)<br>\n",
        "- Debemos combinarlos alternativamente sin repetir ninguno de ellos para obtener una cantidad dada. Un ejemplo sería para obtener el 4: 4+2-6/3*1 = 4<br>\n",
        "Debe analizarse el problema para encontrar todos los valores enteros posibles planteando las siguientes cuestiones:<br>\n",
        "- ¿Qué valor máximo y mínimo se pueden obtener según las condiciones del problema?<br>\n",
        "- ¿Es posible encontrar todos los valores enteros posibles entre dicho mínimo y máximo?\n",
        "<br><br>\n",
        "(*) La respuesta es obligatoria\n",
        "\n",
        "\n",
        "\n",
        "\n",
        "\n",
        "                                        "
      ]
    },
    {
      "cell_type": "code",
      "source": [
        ""
      ],
      "metadata": {
        "id": "zTTofb5g5hky"
      },
      "execution_count": null,
      "outputs": []
    },
    {
      "cell_type": "markdown",
      "metadata": {
        "id": "3_-exlrTgLd-"
      },
      "source": [
        "(*)¿Cuantas posibilidades hay sin tener en cuenta las restricciones?<br>\n",
        "\n",
        "\n",
        "\n",
        "¿Cuantas posibilidades hay teniendo en cuenta todas las restricciones.\n",
        "\n",
        "\n"
      ]
    },
    {
      "cell_type": "markdown",
      "metadata": {
        "id": "WfCUqJyKhPcw"
      },
      "source": [
        "Respuesta\n",
        "\n",
        "Sin tener en cuenta restricciones, pero sabiendo que no puede haber más de 4 signos, y los números tienen que ser del 1 al 9, hay $4^{4} * 9^{5} = 15.116.544$ posibilidades (variaciones con repetición)\n",
        "\n",
        "Teniendo en cuenta las restricciones de no repetición de signos ni de números, tenemos $(4*3*2*1) * (9*8*7*6*5) = 362.880$ posibilidades (variaciones sin repetición)"
      ]
    },
    {
      "cell_type": "code",
      "metadata": {
        "id": "iq6Fe32MgpDX"
      },
      "source": [
        ""
      ],
      "execution_count": null,
      "outputs": []
    },
    {
      "cell_type": "markdown",
      "metadata": {
        "id": "dzynfVJahHoY"
      },
      "source": [
        "Modelo para el espacio de soluciones<br>\n",
        "(*) ¿Cual es la estructura de datos que mejor se adapta al problema? Argumentalo.(Es posible que hayas elegido una al principio y veas la necesidad de cambiar, arguentalo)\n"
      ]
    },
    {
      "cell_type": "markdown",
      "metadata": {
        "id": "xFIJrOwKi2Ti"
      },
      "source": [
        "Respuesta\n",
        "\n",
        "La estructura de datos que mejor se adapta al problema son dos listas, una de números del 1 al 9 y la otra de los 4 signos"
      ]
    },
    {
      "cell_type": "code",
      "metadata": {
        "id": "38c-7-ejhJmA"
      },
      "source": [
        ""
      ],
      "execution_count": null,
      "outputs": []
    },
    {
      "cell_type": "markdown",
      "metadata": {
        "id": "7Z9U2W7bi-XS"
      },
      "source": [
        "Según el modelo para el espacio de soluciones<br>\n",
        "(*)¿Cual es la función objetivo?\n",
        "\n",
        "(*)¿Es un problema de maximización o minimización?"
      ]
    },
    {
      "cell_type": "markdown",
      "metadata": {
        "id": "hBalWLM7j1_d"
      },
      "source": [
        "Respuesta\n",
        "\n",
        "Como estamos ante un problema de búsqueda, y no un problema de optimización, no hay ninguna función objetivo que haya que maximizar ni minimizar, sin embargo, sí minimizaré la carga computacional"
      ]
    },
    {
      "cell_type": "code",
      "metadata": {
        "id": "pDA-rg3Gj5Lz"
      },
      "source": [
        ""
      ],
      "execution_count": null,
      "outputs": []
    },
    {
      "cell_type": "markdown",
      "metadata": {
        "id": "rlnTYgY1j6I2"
      },
      "source": [
        "Diseña un algoritmo para resolver el problema por fuerza bruta"
      ]
    },
    {
      "cell_type": "markdown",
      "metadata": {
        "id": "70rDgxYXkC8r"
      },
      "source": [
        "Respuesta\n",
        "\n"
      ]
    },
    {
      "cell_type": "code",
      "metadata": {
        "id": "CJb5sQ0qkENy"
      },
      "source": [
        "# Obtener una expresion cuya resultado sea una cantidad dada \"n\"\n",
        "\n",
        "import itertools\n",
        "\n",
        "def get_number(n):\n",
        "    signs = [\"+\", \"-\", \"*\", \"/\"]\n",
        "    numbers = [1, 2, 3, 4, 5, 6, 7, 8, 9]\n",
        "    for i in itertools.permutations(signs):\n",
        "        for j in itertools.permutations(numbers, 5):\n",
        "            expresion = str(j[0]) + i[0] + str(j[1]) + i[1] + str(j[2]) + i[2] + str(j[3]) + i[3] + str(j[4])\n",
        "            if eval(expresion) == n:\n",
        "                return expresion + \" = \" + str(n)\n",
        "\n",
        "# print(get_number(-50))"
      ],
      "execution_count": 1,
      "outputs": []
    },
    {
      "cell_type": "code",
      "source": [
        "# Obtener el valor minimo y maximo según las condiciones del problema. El max es 78.83333333333333, y el min es -70.71428571428571.\n",
        "\n",
        "import itertools\n",
        "\n",
        "def get_max_min_number():\n",
        "    signs = [\"+\", \"-\", \"*\", \"/\"]\n",
        "    numbers = [1, 2, 3, 4, 5, 6, 7, 8, 9]\n",
        "    max_number = 0\n",
        "    max_expresion = \"\"\n",
        "    min_number = 100\n",
        "    min_expresion = \"\"\n",
        "    for i in itertools.permutations(signs):\n",
        "        for j in itertools.permutations(numbers, 5):\n",
        "            expresion = str(j[0]) + i[0] + str(j[1]) + i[1] + str(j[2]) + i[2] + str(j[3]) + i[3] + str(j[4])\n",
        "            if eval(expresion) > max_number:\n",
        "                max_number = eval(expresion)\n",
        "                max_expresion = expresion\n",
        "            if eval(expresion) < min_number:\n",
        "                min_number = eval(expresion)\n",
        "                min_expresion = expresion\n",
        "    return \"Valor maximo: \" + max_expresion + \" = \" + str(max_number) + \"\\n\" + \"Valor minimo: \" + min_expresion + \" = \" + str(min_number)\n",
        "\n",
        "# print(get_max_min_number())"
      ],
      "metadata": {
        "id": "Ag8KedfamurQ"
      },
      "execution_count": 2,
      "outputs": []
    },
    {
      "cell_type": "code",
      "source": [
        "# Obtener todos los valores enteros posibles entre dicho mínimo y máximo. Se consigue en todos los casos menos para el 78 y para el -70\n",
        "\n",
        "import itertools\n",
        "\n",
        "def get_all_numbers_between(max_number, min_number):\n",
        "    signs = [\"+\", \"-\", \"*\", \"/\"]\n",
        "    numbers = [1, 2, 3, 4, 5, 6, 7, 8, 9]\n",
        "    list_expresions = ['']*(abs(max_number)+abs(min_number)+1)\n",
        "    for i in itertools.permutations(signs):\n",
        "        for j in itertools.permutations(numbers, 5):\n",
        "            expresion = str(j[0]) + i[0] + str(j[1]) + i[1] + str(j[2]) + i[2] + str(j[3]) + i[3] + str(j[4])\n",
        "            if eval(expresion).is_integer():\n",
        "                n = int(eval(expresion))\n",
        "                if list_expresions[n+abs(min_number)] == '':\n",
        "                    list_expresions[n+abs(min_number)] = expresion\n",
        "    return list_expresions\n",
        "\n",
        "# list_expresions = get_all_numbers_between(78, -70)\n",
        "\n",
        "# for i in list_expresions:\n",
        "#     if i == '':\n",
        "#         print(\"NO\")\n",
        "#     else:\n",
        "#         print(i + \" = \" + str(eval(i)))"
      ],
      "metadata": {
        "id": "pC-wUc07m30f"
      },
      "execution_count": 3,
      "outputs": []
    },
    {
      "cell_type": "code",
      "source": [
        ""
      ],
      "metadata": {
        "id": "DtL9BXpPl_sD"
      },
      "execution_count": null,
      "outputs": []
    },
    {
      "cell_type": "markdown",
      "metadata": {
        "id": "tgrnsC2nkFa8"
      },
      "source": [
        "Calcula la complejidad del algoritmo por fuerza bruta"
      ]
    },
    {
      "cell_type": "markdown",
      "metadata": {
        "id": "9eUd3xwckP68"
      },
      "source": [
        "Respuesta\n",
        "\n",
        "En este apartado voy a calcular solo la complejidad del código que he creado para obtener una expresion cuyo resultado sea una cantidad dada.\n",
        "\n",
        "Sabiendo que n es el número de signos diferentes y que m es el número de números diferentes, la complejidad del algoritmo es:\n",
        "$O(n! \\cdot \\cfrac{m!}{(m-n-1)!})$"
      ]
    },
    {
      "cell_type": "code",
      "metadata": {
        "id": "rvZWwL-ckRST"
      },
      "source": [
        ""
      ],
      "execution_count": null,
      "outputs": []
    },
    {
      "cell_type": "markdown",
      "metadata": {
        "id": "txbrmLmskReM"
      },
      "source": [
        "(*)Diseña un algoritmo que mejore la complejidad del algortimo por fuerza bruta. Argumenta porque crees que mejora el algoritmo por fuerza bruta"
      ]
    },
    {
      "cell_type": "markdown",
      "metadata": {
        "id": "hLrVwt5QkZPD"
      },
      "source": [
        "Respuesta\n"
      ]
    },
    {
      "cell_type": "code",
      "metadata": {
        "id": "m1eyM21Vkabg"
      },
      "source": [
        "import random\n",
        "import pandas as pd\n",
        "import matplotlib.pyplot as plt\n",
        "\n",
        "random.seed(42)\n",
        "\n",
        "def evalua_expresion(numeros, signos):\n",
        "    expresion = \"\"\n",
        "    for i in range(len(signos) + len(signos) + 1):\n",
        "        if i%2 == 0:\n",
        "            expresion += str(numeros[i//2])\n",
        "        else:\n",
        "            expresion += signos[i//2]\n",
        "    return eval(expresion), expresion\n",
        "\n",
        "def busqueda_aleatoria(n):\n",
        "    NUMEROS = [i for i in range(1,10)]\n",
        "    SIGNOS = [\"+\", \"-\", \"*\", \"/\"]\n",
        "    while True:\n",
        "        random.shuffle(SIGNOS)\n",
        "        numeros = random.choices(NUMEROS, k=len(SIGNOS)+1)\n",
        "        valor, expresion = evalua_expresion(numeros, SIGNOS)\n",
        "        if valor == n:\n",
        "            return expresion\n",
        "\n",
        "# numero = 10\n",
        "# print(busqueda_aleatoria(numero) + \" = \" + str(numero))"
      ],
      "execution_count": 4,
      "outputs": []
    },
    {
      "cell_type": "markdown",
      "metadata": {
        "id": "eGDB4K6uk1iN"
      },
      "source": [
        "(*)Calcula la complejidad del algoritmo "
      ]
    },
    {
      "cell_type": "markdown",
      "metadata": {
        "id": "NhpTh_BPk1ms"
      },
      "source": [
        "Respuesta"
      ]
    },
    {
      "cell_type": "code",
      "metadata": {
        "id": "nREzhkStlCq8",
        "colab": {
          "base_uri": "https://localhost:8080/"
        },
        "outputId": "a2ead22c-7a47-4c9e-9719-7c1e4c0e415d"
      },
      "source": [
        "# Al ser una búsqueda aleatoria, no puedo calcular la complejidad de una manera exacta. \n",
        "# Sin embargo, para demostrar que el código es notablemente mejor que el de las permutaciones originales, he creado un código que calcula el tiempo que tarda en encontrar 100 números aleatorios ambos métodos.\n",
        "# De esta manera puede observarse la mejoría\n",
        "\n",
        "import time\n",
        "\n",
        "tiempo = time.time()\n",
        "for i in range(100):\n",
        "    busqueda_aleatoria(random.randint(-69, 78))\n",
        "tiempo = time.time() - tiempo\n",
        "print(\"Busqueda aleatoria: \", tiempo)\n",
        "\n",
        "tiempo = time.time()\n",
        "for i in range(100):\n",
        "    get_number(random.randint(-69, 78))\n",
        "tiempo = time.time() - tiempo\n",
        "print(\"Permutaciones: \", tiempo)"
      ],
      "execution_count": 5,
      "outputs": [
        {
          "output_type": "stream",
          "name": "stdout",
          "text": [
            "Busqueda aleatoria:  2.285222291946411\n",
            "Permutaciones:  12.822539806365967\n"
          ]
        }
      ]
    },
    {
      "cell_type": "markdown",
      "metadata": {
        "id": "3M6QjTsSkmYe"
      },
      "source": [
        "Según el problema (y tenga sentido), diseña un juego de datos de entrada aleatorios"
      ]
    },
    {
      "cell_type": "markdown",
      "metadata": {
        "id": "Jc3_OlyNkvjZ"
      },
      "source": [
        "Respuesta"
      ]
    },
    {
      "cell_type": "code",
      "metadata": {
        "id": "sJ-N2etjkyWc"
      },
      "source": [
        "# En este caso solo hay que elegir un número en el intervalo [-60, 77], ya que estos valores y todos los intermedios son los únicos valores que se pueden obtener con las restricciones del problema"
      ],
      "execution_count": null,
      "outputs": []
    },
    {
      "cell_type": "markdown",
      "metadata": {
        "id": "zy5ZROmjlGo1"
      },
      "source": [
        "Aplica el algoritmo al juego de datos generado"
      ]
    },
    {
      "cell_type": "markdown",
      "metadata": {
        "id": "_Cmj-PVylMsa"
      },
      "source": [
        "Respuesta"
      ]
    },
    {
      "cell_type": "code",
      "metadata": {
        "id": "Jkx8GeiYlUz1",
        "colab": {
          "base_uri": "https://localhost:8080/"
        },
        "outputId": "be7b0c02-112b-4e8b-c60a-8e9b73851105"
      },
      "source": [
        "print(get_number(-50))"
      ],
      "execution_count": 6,
      "outputs": [
        {
          "output_type": "stream",
          "name": "stdout",
          "text": [
            "2+4-7*8/1 = -50\n"
          ]
        }
      ]
    },
    {
      "cell_type": "markdown",
      "metadata": {
        "id": "eTFWUJQrtGcv"
      },
      "source": [
        "Enumera las referencias que has utilizado(si ha sido necesario) para llevar a cabo el trabajo"
      ]
    },
    {
      "cell_type": "markdown",
      "metadata": {
        "id": "YKQ_mRBttWsP"
      },
      "source": [
        "Respuesta\n",
        "\n",
        "Todas las referencias que he utilizado han sido dudas de sintaxis de python, que son genéricas. No he utilizado más, por eso no referencio ninguna."
      ]
    },
    {
      "cell_type": "markdown",
      "metadata": {
        "id": "kAkDPUyRtYyH"
      },
      "source": [
        "Describe brevemente las lineas de como crees que es posible avanzar en el estudio del problema. Ten en cuenta incluso posibles variaciones del problema y/o variaciones al alza del tamaño"
      ]
    },
    {
      "cell_type": "markdown",
      "metadata": {
        "id": "IE0uZmo-tZu-"
      },
      "source": [
        "Respuesta\n",
        "\n",
        "No quería hacer el código utilizando búsqueda aleatoria, pero he estado varios días intentando programar un algoritmo de ramificación y poda, utilizando diferentes algoritmos para podar, pero no conseguía hacer backtracking para llevar a cabo las permutaciones. Por eso he acabado optando por utilizar búsqueda aleatoria. He llegado bastante lejos con la ramificación, pero no he sido capaz de rematar la faena. Claramente, esa es la línea más clara que veo para avanzar en el estudio del problema."
      ]
    }
  ]
}